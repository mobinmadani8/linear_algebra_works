{
 "cells": [
  {
   "attachments": {},
   "cell_type": "markdown",
   "id": "acc137fd",
   "metadata": {},
   "source": [
    "<h1 align=center style=\"line-height:200%;font-family:vazir;color:#0099cc\">\n",
    "<font face=\"vazir\" color=\"#0099cc\">\n",
    "iris flowers\n",
    "</font>\n",
    "</h1>"
   ]
  },
  {
   "attachments": {},
   "cell_type": "markdown",
   "id": "88868eae",
   "metadata": {},
   "source": [
    "# summary\n",
    "in this simple projects we want to see impact of using linear algebra in reducing <code>for</code> loops and it's effect in speed of KNN algorithm as example\n",
    "\n",
    "we will use <code>iris flowers</code> dataset and <code>numpy</code> library for our work"
   ]
  },
  {
   "cell_type": "code",
   "execution_count": 2,
   "id": "cece44e9",
   "metadata": {},
   "outputs": [
    {
     "name": "stdout",
     "output_type": "stream",
     "text": [
      "(120, 4)\n",
      "(120,)\n",
      "(30, 4)\n"
     ]
    }
   ],
   "source": [
    "import numpy as np\n",
    "# include iris features\n",
    "irises = np.load('data/irises.npy')\n",
    "# include iris types\n",
    "types = np.load('data/types.npy')\n",
    "# include new iris features\n",
    "new_irises = np.load('data/new_irises.npy')\n",
    "\n",
    "\n",
    "print(irises.shape)\n",
    "print(types.shape)\n",
    "print(new_irises.shape)\n",
    "n, m = len(irises), len(new_irises)  # n for iris count , m for new iris count"
   ]
  },
  {
   "attachments": {},
   "cell_type": "markdown",
   "id": "d45dc410",
   "metadata": {},
   "source": [
    "# with Two loop\n",
    "in first step we use easiest way, and use 2 loop for work"
   ]
  },
  {
   "cell_type": "code",
   "execution_count": 3,
   "id": "39b745a5",
   "metadata": {},
   "outputs": [],
   "source": [
    "def calc_two_loops(new_points, points):\n",
    "    m, n = len(new_points), len(points)\n",
    "    d = np.zeros((m, n))\n",
    "    for i in range(m):\n",
    "        for j in range(n):\n",
    "            d[i, j] = np.sum(np.square( new_points[i]-points[j]))\n",
    "    return d"
   ]
  },
  {
   "attachments": {},
   "cell_type": "markdown",
   "id": "fd548299",
   "metadata": {},
   "source": [
    "# with One loop\n",
    "in second step we go further , and use 1 loop for work"
   ]
  },
  {
   "cell_type": "code",
   "execution_count": 9,
   "id": "021a9f1c",
   "metadata": {},
   "outputs": [],
   "source": [
    "def calc_one_loop(new_points, points):\n",
    "    m, n = len(new_points), len(points)    \n",
    "    d = np.zeros((m, n))\n",
    "    for i in range(m):\n",
    "        d[i] = np.sum(np.square(points - new_points[i]),axis=1)\n",
    "    return d"
   ]
  },
  {
   "attachments": {},
   "cell_type": "markdown",
   "id": "7098757d",
   "metadata": {},
   "source": [
    "# with no loop\n",
    "in last step we want to do it without loop:"
   ]
  },
  {
   "attachments": {},
   "cell_type": "markdown",
   "id": "babf99c9",
   "metadata": {},
   "source": [
    "we can reshape our data and convert it to 3d array to calculate distance in each layer without loop.\n",
    "<p style=\"text-align:center;\"><img src=\"fig.png\"></p>"
   ]
  },
  {
   "cell_type": "code",
   "execution_count": 7,
   "id": "f3e881e6",
   "metadata": {},
   "outputs": [],
   "source": [
    "def calc_no_loop(new_points, points):\n",
    "    return np.sum( np.square(points- new_points.reshape(30 , 1,4)),axis=2)"
   ]
  },
  {
   "attachments": {},
   "cell_type": "markdown",
   "id": "d16a858c",
   "metadata": {},
   "source": [
    "at the end:\n",
    "* we should check the result of 3 method and they should be same.\n",
    "* compare speed of each 3 method"
   ]
  },
  {
   "cell_type": "code",
   "execution_count": 10,
   "id": "6b3eda6e",
   "metadata": {},
   "outputs": [
    {
     "name": "stdout",
     "output_type": "stream",
     "text": [
      "Fine!\n"
     ]
    }
   ],
   "source": [
    "d2 = calc_two_loops(new_irises, irises)\n",
    "d1 = calc_one_loop(new_irises, irises)\n",
    "d = calc_no_loop(new_irises, irises)\n",
    "\n",
    "if np.allclose(d, d1, 1e-5) and np.allclose(d, d2, 1e-5):\n",
    "    print('Fine!')\n",
    "else:\n",
    "    print('There is something wrong!')"
   ]
  },
  {
   "attachments": {},
   "cell_type": "markdown",
   "id": "175de857",
   "metadata": {},
   "source": [
    "as you see they are same,\n",
    "now we go further\n",
    "\n",
    "because next steps of KNN is same, at this step we can compare our speed"
   ]
  },
  {
   "cell_type": "code",
   "execution_count": 29,
   "id": "f678ff0f",
   "metadata": {},
   "outputs": [
    {
     "name": "stdout",
     "output_type": "stream",
     "text": [
      "25.9 ms ± 2.06 ms per loop (mean ± std. dev. of 7 runs, 10 loops each)\n"
     ]
    }
   ],
   "source": [
    "%%timeit\n",
    "calc_two_loops(new_irises , irises);"
   ]
  },
  {
   "cell_type": "code",
   "execution_count": 32,
   "id": "387d6a70",
   "metadata": {},
   "outputs": [
    {
     "name": "stdout",
     "output_type": "stream",
     "text": [
      "419 µs ± 51.7 µs per loop (mean ± std. dev. of 7 runs, 1,000 loops each)\n"
     ]
    }
   ],
   "source": [
    "%%timeit\n",
    "calc_one_loop(new_irises , irises);"
   ]
  },
  {
   "cell_type": "code",
   "execution_count": 33,
   "id": "3f76983d",
   "metadata": {},
   "outputs": [
    {
     "name": "stdout",
     "output_type": "stream",
     "text": [
      "111 µs ± 2.24 µs per loop (mean ± std. dev. of 7 runs, 10,000 loops each)\n"
     ]
    }
   ],
   "source": [
    "%%timeit\n",
    "calc_no_loop(new_irises , irises);"
   ]
  },
  {
   "attachments": {},
   "cell_type": "markdown",
   "id": "f3e888f8",
   "metadata": {},
   "source": [
    "<code>calc_no_loop</code> is much much faster :)"
   ]
  },
  {
   "attachments": {},
   "cell_type": "markdown",
   "id": "6a1fe90f",
   "metadata": {},
   "source": [
    "we achieve our main goal (compare speed).\n",
    "\n",
    "but we can continue and complete our KNN algo"
   ]
  },
  {
   "attachments": {},
   "cell_type": "markdown",
   "id": "8a7ef6a5",
   "metadata": {},
   "source": [
    "after calculate distance we must sort and choose <code>N</code> nearest neighbors. bacause we just want first <code>N</code> , we can use <code>argpartition</code> to return <code>N</code> near."
   ]
  },
  {
   "cell_type": "code",
   "execution_count": 34,
   "id": "e0423a6e",
   "metadata": {},
   "outputs": [
    {
     "data": {
      "text/plain": [
       "array([[  6,  14,   0,  32,  22,  17,  39,  21,  23,  37],\n",
       "       [ 10,   1,  30,  24,  20,   2,  36,   3,   6,  28],\n",
       "       [ 27,  13,   8,  39,   4,  29,  15,  12,  26,  25],\n",
       "       [ 14,  17,   0,  39,  37,  22,   8,  32,  26,  13],\n",
       "       [ 21,  20,  30,   3,   9,  24,   6,  19,  35,   5],\n",
       "       [ 10,   1,   2,   3,  38,   5,  36,  30,  24,   9],\n",
       "       [ 10,   1,  30,  24,  20,   2,  36,   3,   6,  28],\n",
       "       [  0,   6,  22,  23,  21,  14,   9,  32,  17,  39],\n",
       "       [ 39,  35,  17,  22,   4,  21,  37,  19,   8,  16],\n",
       "       [ 28,   6,  23,   0,  14,  21,  30,  32,  22,   9],\n",
       "       [ 47,  73,  69,  61,  52,  51,  41,  60, 101,  58],\n",
       "       [ 71,  43,  65,  64,  77,  72,  66,  76,  74,  54],\n",
       "       [ 71,  65,  74,  64,  66,  77,  76,  54,  57,  49],\n",
       "       [ 64,  65,  74,  66,  43,  50,  54,  72,  77,  71],\n",
       "       [ 78,  60,  47,  41,  73,  52,  63,  57,  51,  59],\n",
       "       [ 74,  65,  54,  64,  66,  43,  50,  57,  71,  75],\n",
       "       [ 77,  71,  44,  53,  72,  76,  49,  97,  56,  63],\n",
       "       [ 72,  66,  64,  74,  43,  65,  77,  54,  71,  76],\n",
       "       [ 77,  74,  44,  72,  71,  76,  54,  66,  43,  53],\n",
       "       [ 66,  54,  71,  76,  77,  74,  49,  57,  44,  72],\n",
       "       [ 90, 103, 106,  96, 112, 115,  93, 110,  83,  80],\n",
       "       [ 82,  96, 100, 108,  94, 115, 112, 105,  80,  84],\n",
       "       [111,  92,  97, 117,  81, 114, 102,  91, 101,  56],\n",
       "       [107,  67,  81, 117,  58, 114,  91,  99,  55,  70],\n",
       "       [110,  82,  90,  92,  96, 115,  93, 109, 112, 103],\n",
       "       [100, 104,  82,  86,  96,  93,  90,  87, 115, 110],\n",
       "       [107,  83,  87,  89,  67,  93,  58, 110,  81, 114],\n",
       "       [113,  90, 118, 112, 116,  96,  93,  82,  88,  92],\n",
       "       [115,  96, 112, 109,  80,  90,  92, 116, 119, 106],\n",
       "       [114, 102, 111,  81,  97,  67,  56, 107,  99, 101]], dtype=int64)"
      ]
     },
     "execution_count": 34,
     "metadata": {},
     "output_type": "execute_result"
    }
   ],
   "source": [
    "k = 10\n",
    "k_nearest = np.argpartition(d , 10,axis=1)[: , :10]\n",
    "k_nearest"
   ]
  },
  {
   "attachments": {},
   "cell_type": "markdown",
   "id": "ae95084c",
   "metadata": {},
   "source": [
    "now we can use their arg to find type of them"
   ]
  },
  {
   "cell_type": "code",
   "execution_count": 35,
   "id": "22edbad2",
   "metadata": {},
   "outputs": [
    {
     "data": {
      "text/plain": [
       "array([[0, 0, 0, 0, 0, 0, 0, 0, 0, 0],\n",
       "       [0, 0, 0, 0, 0, 0, 0, 0, 0, 0],\n",
       "       [0, 0, 0, 0, 0, 0, 0, 0, 0, 0],\n",
       "       [0, 0, 0, 0, 0, 0, 0, 0, 0, 0],\n",
       "       [0, 0, 0, 0, 0, 0, 0, 0, 0, 0],\n",
       "       [0, 0, 0, 0, 0, 0, 0, 0, 0, 0],\n",
       "       [0, 0, 0, 0, 0, 0, 0, 0, 0, 0],\n",
       "       [0, 0, 0, 0, 0, 0, 0, 0, 0, 0],\n",
       "       [0, 0, 0, 0, 0, 0, 0, 0, 0, 0],\n",
       "       [0, 0, 0, 0, 0, 0, 0, 0, 0, 0],\n",
       "       [1, 1, 1, 1, 1, 1, 1, 1, 2, 1],\n",
       "       [1, 1, 1, 1, 1, 1, 1, 1, 1, 1],\n",
       "       [1, 1, 1, 1, 1, 1, 1, 1, 1, 1],\n",
       "       [1, 1, 1, 1, 1, 1, 1, 1, 1, 1],\n",
       "       [1, 1, 1, 1, 1, 1, 1, 1, 1, 1],\n",
       "       [1, 1, 1, 1, 1, 1, 1, 1, 1, 1],\n",
       "       [1, 1, 1, 1, 1, 1, 1, 2, 1, 1],\n",
       "       [1, 1, 1, 1, 1, 1, 1, 1, 1, 1],\n",
       "       [1, 1, 1, 1, 1, 1, 1, 1, 1, 1],\n",
       "       [1, 1, 1, 1, 1, 1, 1, 1, 1, 1],\n",
       "       [2, 2, 2, 2, 2, 2, 2, 2, 2, 2],\n",
       "       [2, 2, 2, 2, 2, 2, 2, 2, 2, 2],\n",
       "       [2, 2, 2, 2, 2, 2, 2, 2, 2, 1],\n",
       "       [2, 1, 2, 2, 1, 2, 2, 2, 1, 1],\n",
       "       [2, 2, 2, 2, 2, 2, 2, 2, 2, 2],\n",
       "       [2, 2, 2, 2, 2, 2, 2, 2, 2, 2],\n",
       "       [2, 2, 2, 2, 1, 2, 1, 2, 2, 2],\n",
       "       [2, 2, 2, 2, 2, 2, 2, 2, 2, 2],\n",
       "       [2, 2, 2, 2, 2, 2, 2, 2, 2, 2],\n",
       "       [2, 2, 2, 2, 2, 1, 1, 2, 2, 2]], dtype=int64)"
      ]
     },
     "execution_count": 35,
     "metadata": {},
     "output_type": "execute_result"
    }
   ],
   "source": [
    "k_nearest_types = types[k_nearest]\n",
    "k_nearest_types"
   ]
  },
  {
   "attachments": {},
   "cell_type": "markdown",
   "id": "d51e0ad4",
   "metadata": {},
   "source": [
    "at the end we get <code>mode</code> of each list"
   ]
  },
  {
   "cell_type": "code",
   "execution_count": 36,
   "id": "56f71418",
   "metadata": {},
   "outputs": [
    {
     "data": {
      "text/plain": [
       "array([0, 0, 0, 0, 0, 0, 0, 0, 0, 0, 1, 1, 1, 1, 1, 1, 1, 1, 1, 1, 2, 2,\n",
       "       2, 2, 2, 2, 2, 2, 2, 2], dtype=int64)"
      ]
     },
     "execution_count": 36,
     "metadata": {},
     "output_type": "execute_result"
    }
   ],
   "source": [
    "from scipy import stats\n",
    "predicted_types = stats.mode(k_nearest_types, axis=1).mode.reshape(m)\n",
    "predicted_types"
   ]
  },
  {
   "attachments": {},
   "cell_type": "markdown",
   "id": "ecf0a89d",
   "metadata": {},
   "source": [
    "now we can compare our prediction with <code>new_types.npy</code>."
   ]
  },
  {
   "cell_type": "code",
   "execution_count": 37,
   "id": "6c855388",
   "metadata": {},
   "outputs": [
    {
     "name": "stdout",
     "output_type": "stream",
     "text": [
      "Accuracy: 1.0\n"
     ]
    }
   ],
   "source": [
    "new_types = np.load('data/new_types.npy')\n",
    "accuracy = np.sum(np.equal(new_types,predicted_types)) / np.size(new_types)\n",
    "print('Accuracy:', accuracy)"
   ]
  }
 ],
 "metadata": {
  "kernelspec": {
   "display_name": "Python 3.9.12 ('base')",
   "language": "python",
   "name": "python3"
  },
  "language_info": {
   "codemirror_mode": {
    "name": "ipython",
    "version": 3
   },
   "file_extension": ".py",
   "mimetype": "text/x-python",
   "name": "python",
   "nbconvert_exporter": "python",
   "pygments_lexer": "ipython3",
   "version": "3.9.12"
  },
  "vscode": {
   "interpreter": {
    "hash": "39a820cb6228b99f37f39fbb649dd2b86436e0419dcc7c63f4704b792a5688ed"
   }
  }
 },
 "nbformat": 4,
 "nbformat_minor": 5
}
